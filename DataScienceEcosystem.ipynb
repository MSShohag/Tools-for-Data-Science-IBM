{
 "cells": [
  {
   "cell_type": "markdown",
   "id": "0e0ca3a4-c14c-41d0-bb5b-4c5be438a7b4",
   "metadata": {},
   "source": [
    "# Data Science Tools and Ecosystem\n"
   ]
  },
  {
   "cell_type": "markdown",
   "id": "1c600fad-061d-4720-ace4-9459be157fe1",
   "metadata": {},
   "source": [
    "In this notebook, Data Science Tools and Ecosystem are summarized."
   ]
  },
  {
   "cell_type": "markdown",
   "id": "8dc7a310-db07-4aa2-aa9f-7ef91cafb455",
   "metadata": {},
   "source": [
    "Some of the popular languages that Data Scientists use are:\n",
    "1. Python\n",
    "\n",
    "2. R\n",
    "\n",
    "3. SQL\n",
    "\n",
    "4. Scala\n",
    "\n",
    "5. Java\n",
    "\n",
    "6. C++\n",
    "\n",
    "7. Julia\n",
    "\n",
    "8. JavaScript\n",
    "\n",
    "9. PHP\n",
    "\n",
    "10. Go\n",
    "\n",
    "11. Ruby\n",
    "\n",
    "12. Visual Basic"
   ]
  },
  {
   "cell_type": "markdown",
   "id": "1b639b7a-9cbb-48a6-b75a-cbe247deecbe",
   "metadata": {},
   "source": [
    "Some of the commonly used libraries used by Data Scientists include:\n",
    " 1. Pandas\n",
    "\n",
    "2. Numpy\n",
    "\n",
    "3. Matplotlib\n",
    "\n",
    "4. Seaborn\n",
    "\n",
    "5. Scikit-learn\n",
    "\n",
    "6. Keras\n",
    "\n",
    "7. TensorFlow\n",
    "\n",
    "8. PyTorch\n",
    "\n",
    "9. Apache Spark\n",
    "\n",
    "10. Vegas\n",
    "\n",
    "11. Big DL\n",
    "\n",
    "12. Ggplot2"
   ]
  },
  {
   "cell_type": "markdown",
   "id": "2d99f874-bdd9-4633-b147-d8b4cf379cc9",
   "metadata": {},
   "source": [
    "| Data Science Tools | \n",
    "|------|\n",
    "|Anaconda|\n",
    "|Jupyter Notebooks|\n",
    "|R Studio|\n",
    "|Spyder|\n",
    "|Zeppelin|"
   ]
  },
  {
   "cell_type": "markdown",
   "id": "cd53a8bb-a9fa-4934-8716-c1719e08bf62",
   "metadata": {},
   "source": [
    "### Below are a few examples of evaluating arithmetic expressions in Python"
   ]
  },
  {
   "cell_type": "code",
   "execution_count": 1,
   "id": "cad221b4-182d-435e-9411-2b9b672a7533",
   "metadata": {
    "tags": []
   },
   "outputs": [
    {
     "data": {
      "text/plain": [
       "17"
      ]
     },
     "execution_count": 1,
     "metadata": {},
     "output_type": "execute_result"
    }
   ],
   "source": [
    "# This a simple arithmetic expression to mutiply then add integers\n",
    "(3*4)+5"
   ]
  },
  {
   "cell_type": "code",
   "execution_count": 5,
   "id": "1e089c16-8c86-475c-85a7-c1719445eb95",
   "metadata": {
    "tags": []
   },
   "outputs": [
    {
     "data": {
      "text/plain": [
       "3"
      ]
     },
     "execution_count": 5,
     "metadata": {},
     "output_type": "execute_result"
    }
   ],
   "source": [
    "# This will convert 200 minutes to hours by diving by 60\n",
    "200//60\n"
   ]
  },
  {
   "cell_type": "markdown",
   "id": "aaecdee6-6fd6-47ba-af56-62251bf397b0",
   "metadata": {},
   "source": [
    "__Objectives:__\n",
    "- add comments to code cells\n",
    "- create markdown cells\n",
    "- add ordered and unordered lists to markdown cells\n",
    "- format content of markdown cells with heading styles"
   ]
  },
  {
   "cell_type": "markdown",
   "id": "99beca5c-a043-4b11-be91-d1fac8f48b32",
   "metadata": {
    "tags": []
   },
   "source": [
    "## Author\n",
    "M Shahrear Shohag"
   ]
  }
 ],
 "metadata": {
  "kernelspec": {
   "display_name": "Python",
   "language": "python",
   "name": "conda-env-python-py"
  },
  "language_info": {
   "codemirror_mode": {
    "name": "ipython",
    "version": 3
   },
   "file_extension": ".py",
   "mimetype": "text/x-python",
   "name": "python",
   "nbconvert_exporter": "python",
   "pygments_lexer": "ipython3",
   "version": "3.7.12"
  }
 },
 "nbformat": 4,
 "nbformat_minor": 5
}
